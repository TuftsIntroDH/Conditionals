{
 "cells": [
  {
   "cell_type": "markdown",
   "metadata": {},
   "source": [
    "# Mint Conditionals\n",
    "\n",
    "You will often hear that conditionals are the heart of programming: `if` and `else` statements are the building-blocks of how programs make decisions.\n",
    "\n",
    "But I also want to stress that too much `if`-ing and `else`-ing should be considered a **code smell** — not a bug exactly, but an indication that the program isn't as clean or as optimized as it should be.\n",
    "\n",
    "But for now, we'll pretend that conditionals smell like fresh mint tea. 🍵\n",
    "\n",
    "## Comparing values\n",
    "\n",
    "As we've mentioned in class, Python has a few comparison operators. Don't confuse these with the bare `=`, which is the **assignment** operator — that is, the operator that you use for assigning a value to a variable.\n",
    "\n",
    "Here is a list of the comparison operators you should know — you can think of each of these operators asking a question to which the program can answer `True` or `False`.\n",
    "\n",
    "\"Is the left-hand side [BLANK] the right-hand side?\", where we replace \"[BLANK]\" with the statements below:\n",
    "\n",
    "- `==`: equal to\n",
    "- `!=`: **not equal** to\n",
    "- `>`: greater than\n",
    "- `>=`: greater than or equal to\n",
    "- `<`: less than\n",
    "- `<=` less than or equal to\n",
    "\n",
    "Let's practice using `==` and `!=` first."
   ]
  },
  {
   "cell_type": "markdown",
   "metadata": {},
   "source": [
    "## Best of the Achaeans\n",
    "\n",
    "We have a list of Achaean leaders, and we want to print a statement when we identify the best of them. We could iteratre through the list of names and check if the name matches `\"Achilles\"`."
   ]
  },
  {
   "cell_type": "code",
   "execution_count": 3,
   "metadata": {},
   "outputs": [
    {
     "name": "stdout",
     "output_type": "stream",
     "text": [
      "Agamemnon\n",
      "Menelaus\n",
      "Ajax\n",
      "Odysseus\n",
      "Achilles\n",
      "Achilles, you're the best!\n",
      "Patroclus\n"
     ]
    }
   ],
   "source": [
    "achaeans = [\"Agamemnon\", \"Menelaus\", \"Ajax\", \"Odysseus\", \"Achilles\", \"Patroclus\"]\n",
    "\n",
    "for leader in achaeans:\n",
    "    print(leader)\n",
    "\n",
    "    if leader == \"Achilles\":\n",
    "        print(f\"{leader}, you're the best!\")"
   ]
  },
  {
   "cell_type": "markdown",
   "metadata": {},
   "source": [
    "We also want to check if each leader is likely to be truthful — we've got eyes on you, `\"Odysseus\"`:"
   ]
  },
  {
   "cell_type": "code",
   "execution_count": 4,
   "metadata": {},
   "outputs": [
    {
     "name": "stdout",
     "output_type": "stream",
     "text": [
      "You're probably telling the truth, Agamemnon.\n",
      "You're probably telling the truth, Menelaus.\n",
      "You're probably telling the truth, Ajax.\n",
      "I dunno if I buy that, Odysseus.\n",
      "You're probably telling the truth, Achilles.\n",
      "You're probably telling the truth, Patroclus.\n"
     ]
    }
   ],
   "source": [
    "for leader in achaeans:\n",
    "    if leader != \"Odysseus\":\n",
    "        print(f\"You're probably telling the truth, {leader}.\")\n",
    "    else:\n",
    "        print(f\"I dunno if I buy that, {leader}.\")"
   ]
  },
  {
   "cell_type": "markdown",
   "metadata": {},
   "source": [
    "As you can see, every `if` statement checks whether a **condition** is `True` or `False` — so every `if` statement really boils down to:"
   ]
  },
  {
   "cell_type": "code",
   "execution_count": 5,
   "metadata": {},
   "outputs": [
    {
     "name": "stdout",
     "output_type": "stream",
     "text": [
      "It's true!\n",
      "But I provide a fallback!\n"
     ]
    }
   ],
   "source": [
    "if True:\n",
    "    print(\"It's true!\")\n",
    "\n",
    "if False:\n",
    "    print(\"I won't print.\")\n",
    "else:\n",
    "    print(\"But I provide a fallback!\")"
   ]
  },
  {
   "cell_type": "markdown",
   "metadata": {},
   "source": [
    "Notice that we can even use `else` as a fallback in case the condition is not `True`.\n",
    "\n",
    "To put this another way, why don't we check for equality by assigning a string to a variable?"
   ]
  },
  {
   "cell_type": "code",
   "execution_count": 6,
   "metadata": {},
   "outputs": [
    {
     "data": {
      "text/plain": [
       "True"
      ]
     },
     "execution_count": 6,
     "metadata": {},
     "output_type": "execute_result"
    }
   ],
   "source": [
    "odysseus = \"Odysseus\"\n",
    "achilles = \"Achilles\"\n",
    "\n",
    "achilles == \"Achilles\""
   ]
  },
  {
   "cell_type": "code",
   "execution_count": 9,
   "metadata": {},
   "outputs": [
    {
     "data": {
      "text/plain": [
       "True"
      ]
     },
     "execution_count": 9,
     "metadata": {},
     "output_type": "execute_result"
    }
   ],
   "source": [
    "achilles != odysseus"
   ]
  },
  {
   "cell_type": "code",
   "execution_count": 8,
   "metadata": {},
   "outputs": [
    {
     "data": {
      "text/plain": [
       "False"
      ]
     },
     "execution_count": 8,
     "metadata": {},
     "output_type": "execute_result"
    }
   ],
   "source": [
    "achilles == odysseus"
   ]
  },
  {
   "cell_type": "markdown",
   "metadata": {},
   "source": [
    "What if we change one side of the equation?"
   ]
  },
  {
   "cell_type": "code",
   "execution_count": 7,
   "metadata": {},
   "outputs": [
    {
     "data": {
      "text/plain": [
       "False"
      ]
     },
     "execution_count": 7,
     "metadata": {},
     "output_type": "execute_result"
    }
   ],
   "source": [
    "achilles.lower() == \"Achilles\""
   ]
  },
  {
   "cell_type": "markdown",
   "metadata": {},
   "source": [
    "Right, that makes sense: when we lowercase the value `\"Achilles\"`, which we have assigned to the aptly named variable `achilles`, the equation becomes `\"achilles\" == \"Achilles\"`, which is obviously `False`."
   ]
  },
  {
   "cell_type": "markdown",
   "metadata": {},
   "source": [
    "## Comparing numbers\n",
    "\n",
    "As you probably guessed when you saw the `>` and `<` family of operators, Python also allows us to compare numbers."
   ]
  },
  {
   "cell_type": "code",
   "execution_count": 10,
   "metadata": {},
   "outputs": [
    {
     "data": {
      "text/plain": [
       "True"
      ]
     },
     "execution_count": 10,
     "metadata": {},
     "output_type": "execute_result"
    }
   ],
   "source": [
    "number_of_achaeans = 200_000\n",
    "number_of_trojans = 100_000\n",
    "\n",
    "number_of_achaeans > number_of_trojans"
   ]
  },
  {
   "cell_type": "code",
   "execution_count": null,
   "metadata": {},
   "outputs": [],
   "source": [
    "number_of_achaeans >= number_of_trojans"
   ]
  },
  {
   "cell_type": "code",
   "execution_count": null,
   "metadata": {},
   "outputs": [],
   "source": [
    "number_of_achaeans < number_of_trojans"
   ]
  },
  {
   "cell_type": "code",
   "execution_count": null,
   "metadata": {},
   "outputs": [],
   "source": [
    "number_of_trojans == number_of_achaeans"
   ]
  },
  {
   "cell_type": "code",
   "execution_count": 11,
   "metadata": {},
   "outputs": [
    {
     "data": {
      "text/plain": [
       "True"
      ]
     },
     "execution_count": 11,
     "metadata": {},
     "output_type": "execute_result"
    }
   ],
   "source": [
    "number_of_trojans * 2 == number_of_achaeans"
   ]
  },
  {
   "cell_type": "markdown",
   "metadata": {},
   "source": [
    "## `and` and/or `or`\n",
    "\n",
    "Sometimes, we need to check multiple conditions. In these cases, we can use the keywords `and` and `or`: `and` checks if **both sides** are `True`, while `or` will evaluate to `True` if **either side** is `True` (going from left to right)."
   ]
  },
  {
   "cell_type": "code",
   "execution_count": 12,
   "metadata": {},
   "outputs": [
    {
     "data": {
      "text/plain": [
       "True"
      ]
     },
     "execution_count": 12,
     "metadata": {},
     "output_type": "execute_result"
    }
   ],
   "source": [
    "number_of_gods = 12\n",
    "\n",
    "number_of_achaeans > number_of_gods and number_of_trojans > number_of_gods"
   ]
  },
  {
   "cell_type": "code",
   "execution_count": 13,
   "metadata": {},
   "outputs": [
    {
     "data": {
      "text/plain": [
       "True"
      ]
     },
     "execution_count": 13,
     "metadata": {},
     "output_type": "execute_result"
    }
   ],
   "source": [
    "number_of_gods > number_of_trojans or number_of_trojans < number_of_achaeans"
   ]
  },
  {
   "cell_type": "code",
   "execution_count": 14,
   "metadata": {},
   "outputs": [
    {
     "data": {
      "text/plain": [
       "False"
      ]
     },
     "execution_count": 14,
     "metadata": {},
     "output_type": "execute_result"
    }
   ],
   "source": [
    "number_of_trojans > number_of_achaeans and number_of_trojans > number_of_gods"
   ]
  },
  {
   "cell_type": "code",
   "execution_count": 15,
   "metadata": {},
   "outputs": [
    {
     "data": {
      "text/plain": [
       "True"
      ]
     },
     "execution_count": 15,
     "metadata": {},
     "output_type": "execute_result"
    }
   ],
   "source": [
    "number_of_trojans > number_of_achaeans or number_of_trojans > number_of_gods"
   ]
  },
  {
   "cell_type": "markdown",
   "metadata": {},
   "source": [
    "## Checking the condition your condition is in\n",
    "\n",
    "We can use `in` to check if a value is — ahem — in a list."
   ]
  },
  {
   "cell_type": "code",
   "execution_count": 16,
   "metadata": {},
   "outputs": [
    {
     "data": {
      "text/plain": [
       "True"
      ]
     },
     "execution_count": 16,
     "metadata": {},
     "output_type": "execute_result"
    }
   ],
   "source": [
    "\"Achilles\" in achaeans"
   ]
  },
  {
   "cell_type": "code",
   "execution_count": 17,
   "metadata": {},
   "outputs": [
    {
     "data": {
      "text/plain": [
       "False"
      ]
     },
     "execution_count": 17,
     "metadata": {},
     "output_type": "execute_result"
    }
   ],
   "source": [
    "\"Hector\" in achaeans"
   ]
  },
  {
   "cell_type": "markdown",
   "metadata": {},
   "source": [
    "## Jumbo the `elif`-ant\n",
    "\n",
    "(Oof, that was a bad pun, even by my standards.)\n",
    "\n",
    "If you want to break an `if` statement down into multiple checks before falling back to an `else` (or not falling back at all, which is always an option), you can use `elif`."
   ]
  },
  {
   "cell_type": "code",
   "execution_count": 18,
   "metadata": {},
   "outputs": [
    {
     "name": "stdout",
     "output_type": "stream",
     "text": [
      "Andromache, you do not deserve what's about to happen to you and your family.\n"
     ]
    }
   ],
   "source": [
    "trojans = [\"Priam\", \"Hector\", \"Paris\", \"Aeneas\", \"Cassandra\", \"Hecuba\", \"Andromache\"]\n",
    "\n",
    "if \"Achilles\" in trojans:\n",
    "    print(\"Whoa, Achilles, what are you doing there!?\")\n",
    "elif \"Andromache\" in trojans:\n",
    "    print(f\"Andromache, you do not deserve what's about to happen to you and your family.\")\n",
    "elif \"Paris\" in trojans:\n",
    "    print(\"Paris! So that's where my leopard-print suit went!\")\n",
    "else:\n",
    "    print(\"Hm, I'm not finding anyone.\")"
   ]
  },
  {
   "cell_type": "markdown",
   "metadata": {},
   "source": [
    "Notice that as soon as one of the `elif` clauses matches, the others are no longer executed. So even though `\"Paris\"` is indeed among the Trojans, we don't get to reclaim our leopard-print suit because we've already encountered `\"Andromache\"`.\n",
    "\n",
    "What happens if we change all of the `elif` blocks to `if`?"
   ]
  },
  {
   "cell_type": "code",
   "execution_count": null,
   "metadata": {},
   "outputs": [],
   "source": [
    "if \"Achilles\" in trojans:\n",
    "    print(\"Whoa, Achilles, what are you doing there!?\")\n",
    "if \"Andromache\" in trojans:\n",
    "    print(f\"Andromache, you do not deserve what's about to happen to you and your family.\")\n",
    "if \"Paris\" in trojans:\n",
    "    print(\"Paris! So that's where my leopard-print suit went!\")\n",
    "else:\n",
    "    print(\"Hm, I'm not finding anyone.\")"
   ]
  },
  {
   "cell_type": "markdown",
   "metadata": {},
   "source": [
    "# Assignment: Lists and Conditionals\n",
    "\n",
    "1. Create a list of strings called `names` that are all of the names used in the excerpt from Plato's _Phaedrus_ that we read for today.\n",
    "2. Create additional lists, one for the mortals (Socrates and Phaedrus) and one for the gods (the others).\n",
    "3. Iterate through `names` and `print` a different statement depending on if the name is a mortal or a god.\n",
    "4. Use `len()` to compare the lengths of the lists. \n",
    "5. Collect all of the dialogue spoken by Socrates in a single string (recall multiline strings with `\"\"\"`). Do likewise for Phaedrus.\n",
    "6. Use `len()` and a comparison operator to confirm that Socrates speaks more than Phaedrus."
   ]
  },
  {
   "cell_type": "code",
   "execution_count": 10,
   "metadata": {},
   "outputs": [
    {
     "name": "stdout",
     "output_type": "stream",
     "text": [
      "The mortal Socrates appears in Plato's Phaedrus.\n",
      "The mortal Phaedrus also appears in Plato's Phaedrus.\n",
      "The god Thamus appears in Plato's Phaedrus.\n",
      "The god Ammon also appears in Plato's Phaedrus.\n",
      "Finally, the god Theuth also appears in Plato's Phaedrus.\n",
      "Anyway, I've heard a saying among our ancestors, but they [alone] know its truth. But if we ourselves uncover it, would human conjectures still matter to us?Well then, I heard that at Naucratis, in Egypt, there was some one of the ancient gods, who also has a sacred bird which they call 'Ibis' — but the name of this divinity is Theuth. He was the first to discover arithmetic [arithmon] and calculation [logismon], geometry and astronomy, even backgammon and dice-playing, andespecially letters. Now at that time the king of all Egypt was Thamus in the great city of the upper region, which the Greeks call 'Egyptian Thebes' — and they call the god Ammon. And Theuth came to his palace to show him his skills [tas technas], and he said it was necessary to distribute them among the other Egyptians — but Thamus asked what the use [ōphelian] of each skill was. And while Theuth went through them, Thamus said whether each one seemed fine or not to him, censuring some and praising others. It is said, on the one hand, that Thamus said many such things on both sides [praise and blame] about each skill [peri hekastēs technēs] when Theuth was explaining them — the account [logos] of them would take a while to go through. But when it came to letters, Theuth said, 'This invention, O king, will make the Egyptians wiser and more capable of remembering: for I have discovered a drug [pharmakon] for memory and wisdom.'And Thamus replied, 'O most-skilled [technikōtate] Theuth, one person can fashion elements of a skill [ta technēs], but it's up to someone else to judge what share of blame and usefulness it has for those who are going to use it. And now you, since you are the father of letters, because of your partiality, say that they have a capability opposite to what they really do. For this [invention] will yield forgetfulness in the souls of those who have learned it, and negligence with regard to their memories. Because they will remember through their trust in writing — foreign markings from outside — rather than from within themselves.'So you have not discovered a drug for memory but for reminding. And you furnish your learners with what seems like wisdom, not true wisdom. For they will become hearers-of-many-things [polyēkooi] without instruction, and they will seem to be much-learned [polygnōmones] to you, but they will for the most part be unlearned [agnōmones], and they will make difficult company, since they will have become wise-seemers instead of wise people\n",
      "You're talking nonsense — but tell me what you said that you heardYou're talking nonsense — but tell me what you said that you heard\n"
     ]
    },
    {
     "data": {
      "text/plain": [
       "132"
      ]
     },
     "execution_count": 10,
     "metadata": {},
     "output_type": "execute_result"
    }
   ],
   "source": [
    "# List of strings called names that are all names used in assigned excerpt\n",
    "names = [\"Socrates\", \"Phaedrus\", \"Theuth\", \"Thamus\", \"Ammon\"]\n",
    "\n",
    "# Create additional lists, one for morals and one for the gods\n",
    "mortals = [\"Socrates\", \"Phaedrus\"]\n",
    "gods = [\"Thamus\", \"Ammon\", \"Theuth\"]\n",
    "\n",
    "# Iterate through names and print a different statement depending on if the name is a mortal or a god\n",
    "for mortal in mortals:\n",
    "    if mortal == \"Socrates\":\n",
    "     print(f\"The mortal {mortal} appears in Plato's Phaedrus.\")\n",
    "for mortal in mortals: \n",
    "   if mortal == \"Phaedrus\":\n",
    "      print(f\"The mortal {mortal} also appears in Plato's Phaedrus.\")\n",
    "for god in gods:\n",
    "   if god == \"Thamus\":\n",
    "      print(f\"The god {god} appears in Plato's Phaedrus.\")\n",
    "for god in gods:\n",
    "   if god == \"Ammon\":\n",
    "    print(f\"The god {god} also appears in Plato's Phaedrus.\")\n",
    "for god in gods:\n",
    "   if god == \"Theuth\":\n",
    "      print(f\"Finally, the god {god} also appears in Plato's Phaedrus.\")\n",
    "\n",
    "#Use len to compare lengths of lists\n",
    "len(mortals)\n",
    "len(gods)\n",
    "\n",
    "#Collect dialogue for Socrates and Phaedrus\n",
    "Socrates = (\"Anyway, I've heard a saying among our ancestors, but they [alone] know its truth. But if we ourselves uncover it, would human conjectures still matter to us?\" + \"Well then, I heard that at Naucratis, in Egypt, there was some one of the ancient gods, who also has a sacred bird which they call 'Ibis' — but the name of this divinity is Theuth. He was the first to discover arithmetic [arithmon] and calculation [logismon], geometry and astronomy, even backgammon and dice-playing, andespecially letters. Now at that time the king of all Egypt was Thamus in the great city of the upper region, which the Greeks call 'Egyptian Thebes' — and they call the god Ammon. And Theuth came to his palace to show him his skills [tas technas], and he said it was necessary to distribute them among the other Egyptians — but Thamus asked what the use [ōphelian] of each skill was. And while Theuth went through them, Thamus said whether each one seemed fine or not to him, censuring some and praising others. It is said, on the one hand, that Thamus said many such things on both sides [praise and blame] about each skill [peri hekastēs technēs] when Theuth was explaining them — the account [logos] of them would take a while to go through. But when it came to letters, Theuth said, 'This invention, O king, will make the Egyptians wiser and more capable of remembering: for I have discovered a drug [pharmakon] for memory and wisdom.'\" + \"And Thamus replied, 'O most-skilled [technikōtate] Theuth, one person can fashion elements of a skill [ta technēs], but it's up to someone else to judge what share of blame and usefulness it has for those who are going to use it. And now you, since you are the father of letters, because of your partiality, say that they have a capability opposite to what they really do. For this [invention] will yield forgetfulness in the souls of those who have learned it, and negligence with regard to their memories. Because they will remember through their trust in writing — foreign markings from outside — rather than from within themselves.'So you have not discovered a drug for memory but for reminding. And you furnish your learners with what seems like wisdom, not true wisdom. For they will become hearers-of-many-things [polyēkooi] without instruction, and they will seem to be much-learned [polygnōmones] to you, but they will for the most part be unlearned [agnōmones], and they will make difficult company, since they will have become wise-seemers instead of wise people\")\n",
    "print(Socrates)\n",
    "\n",
    "Phaedrus = (\"You're talking nonsense — but tell me what you said that you heard\" + \"You're talking nonsense — but tell me what you said that you heard\")\n",
    "print(Phaedrus)\n",
    "\n",
    "# Compare lengths\n",
    "len(Socrates)\n",
    "len(Phaedrus)\n",
    "\n",
    "len(Phaedrus) < len(Socrates)\n"
   ]
  }
 ],
 "metadata": {
  "kernelspec": {
   "display_name": "Python 3",
   "language": "python",
   "name": "python3"
  },
  "language_info": {
   "codemirror_mode": {
    "name": "ipython",
    "version": 3
   },
   "file_extension": ".py",
   "mimetype": "text/x-python",
   "name": "python",
   "nbconvert_exporter": "python",
   "pygments_lexer": "ipython3",
   "version": "3.12.1"
  }
 },
 "nbformat": 4,
 "nbformat_minor": 2
}
